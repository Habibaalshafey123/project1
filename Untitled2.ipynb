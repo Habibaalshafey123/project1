{
  "nbformat": 4,
  "nbformat_minor": 0,
  "metadata": {
    "colab": {
      "provenance": []
    },
    "kernelspec": {
      "name": "python3",
      "display_name": "Python 3"
    },
    "language_info": {
      "name": "python"
    }
  },
  "cells": [
    {
      "cell_type": "code",
      "execution_count": null,
      "metadata": {
        "id": "zmIjV9ZYFEVO",
        "colab": {
          "base_uri": "https://localhost:8080/"
        },
        "outputId": "bcd9c01b-6f8b-4348-af77-548d2099842f"
      },
      "outputs": [
        {
          "output_type": "execute_result",
          "data": {
            "text/plain": [
              "3"
            ]
          },
          "metadata": {},
          "execution_count": 5
        }
      ],
      "source": [
        "number = [1, 2, 3, 4,5]\n",
        "count = 0\n",
        "\n",
        "for i in range(len(number)):\n",
        "  if number[i] % 2 == 1:\n",
        "    count += 1\n",
        "count"
      ]
    },
    {
      "cell_type": "code",
      "source": [
        "def capital_letter(names):\n",
        "    count = 0\n",
        "    for i in range(len(names)):\n",
        "        if names[i][0].upper()== 'A':\n",
        "            count += 1\n",
        "    return count\n"
      ],
      "metadata": {
        "id": "s9xODTYqJTd4"
      },
      "execution_count": null,
      "outputs": []
    },
    {
      "cell_type": "code",
      "source": [],
      "metadata": {
        "id": "GiKMujOiqUa4"
      },
      "execution_count": null,
      "outputs": []
    },
    {
      "cell_type": "code",
      "source": [
        "names = ['Ahmed', 'mohamed', 'yousef', 'Abdallah' ]\n",
        "count = capital_letter(names)\n",
        "count\n"
      ],
      "metadata": {
        "colab": {
          "base_uri": "https://localhost:8080/"
        },
        "id": "xKJKbX9GPZAc",
        "outputId": "5426f06f-8074-44ae-ed2e-ee8064fe1820"
      },
      "execution_count": null,
      "outputs": [
        {
          "output_type": "execute_result",
          "data": {
            "text/plain": [
              "2"
            ]
          },
          "metadata": {},
          "execution_count": 22
        }
      ]
    },
    {
      "cell_type": "code",
      "source": [
        "class Circle:\n",
        "  def __init__(self,radius,color):\n",
        "    self.radius = radius\n",
        "    self.color = color\n",
        "  def __in\n"
      ],
      "metadata": {
        "id": "jzBFFKkGRuhx"
      },
      "execution_count": null,
      "outputs": []
    },
    {
      "cell_type": "code",
      "source": [
        "class Rectangle:\n",
        "  def __init__(self,length,width,color):\n",
        "    self.length = length\n",
        "    self.color = color\n",
        "    self.width = width\n",
        "  def calc_area(self):\n",
        "    return self.length * self.width\n",
        "\n"
      ],
      "metadata": {
        "id": "5YsJ44_SqWrW"
      },
      "execution_count": null,
      "outputs": []
    },
    {
      "cell_type": "code",
      "source": [
        "R_1 = Rectangle(5,'red',5)\n",
        "R_1"
      ],
      "metadata": {
        "colab": {
          "base_uri": "https://localhost:8080/"
        },
        "id": "cBeNFigqtjUs",
        "outputId": "7bfb2d82-761b-4759-e785-667be59acf0a"
      },
      "execution_count": null,
      "outputs": [
        {
          "output_type": "execute_result",
          "data": {
            "text/plain": [
              "<__main__.Rectangle at 0x7f0819642490>"
            ]
          },
          "metadata": {},
          "execution_count": 33
        }
      ]
    },
    {
      "cell_type": "code",
      "source": [
        "R_1.calc_area()"
      ],
      "metadata": {
        "colab": {
          "base_uri": "https://localhost:8080/"
        },
        "id": "a5Ydl6VGvBpq",
        "outputId": "d9d9bf44-ed58-4ba2-e1e8-e7efda64c954"
      },
      "execution_count": null,
      "outputs": [
        {
          "output_type": "execute_result",
          "data": {
            "text/plain": [
              "25"
            ]
          },
          "metadata": {},
          "execution_count": 34
        }
      ]
    },
    {
      "cell_type": "code",
      "source": [
        "class Rectangle:\n",
        "  def __init__(self,length,width,color):\n",
        "    self.__length = length\n",
        "    self.color = color\n",
        "    self.width = width\n",
        "  def calc_area(self):\n",
        "    return self.__length * self.width\n",
        "  def get_length(self):\n",
        "    return self.__length\n",
        "  def set_length(self,length):\n",
        "      if type(length) in [int,float]:\n",
        "         self.__length = length\n",
        "      else:\n",
        "           print('enter a numeric value')\n"
      ],
      "metadata": {
        "id": "Z3SOnF5UzMLD"
      },
      "execution_count": null,
      "outputs": []
    },
    {
      "cell_type": "code",
      "source": [
        "R_1 = Rectangle(\"habiba\",'red',5)\n",
        "R_1"
      ],
      "metadata": {
        "colab": {
          "base_uri": "https://localhost:8080/"
        },
        "id": "myGtflaZ6LoX",
        "outputId": "3f89e8fc-1ff6-4991-d3f4-2cb1b97410f0"
      },
      "execution_count": null,
      "outputs": [
        {
          "output_type": "execute_result",
          "data": {
            "text/plain": [
              "<__main__.Rectangle at 0x7f08195f9e50>"
            ]
          },
          "metadata": {},
          "execution_count": 48
        }
      ]
    },
    {
      "cell_type": "code",
      "source": [
        "R_1.get__length()"
      ],
      "metadata": {
        "colab": {
          "base_uri": "https://localhost:8080/",
          "height": 141
        },
        "id": "kVdWoIZE6Qoh",
        "outputId": "f7de9b47-4f04-4318-fe7d-254b1c15eb49"
      },
      "execution_count": null,
      "outputs": [
        {
          "output_type": "error",
          "ename": "AttributeError",
          "evalue": "'Rectangle' object has no attribute 'get__length'",
          "traceback": [
            "\u001b[0;31m---------------------------------------------------------------------------\u001b[0m",
            "\u001b[0;31mAttributeError\u001b[0m                            Traceback (most recent call last)",
            "\u001b[0;32m<ipython-input-49-8e588df0372d>\u001b[0m in \u001b[0;36m<cell line: 0>\u001b[0;34m()\u001b[0m\n\u001b[0;32m----> 1\u001b[0;31m \u001b[0mR_1\u001b[0m\u001b[0;34m.\u001b[0m\u001b[0mget__length\u001b[0m\u001b[0;34m(\u001b[0m\u001b[0;34m)\u001b[0m\u001b[0;34m\u001b[0m\u001b[0;34m\u001b[0m\u001b[0m\n\u001b[0m",
            "\u001b[0;31mAttributeError\u001b[0m: 'Rectangle' object has no attribute 'get__length'"
          ]
        }
      ]
    }
  ]
}